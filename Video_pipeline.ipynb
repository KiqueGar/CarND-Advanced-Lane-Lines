{
 "cells": [
  {
   "cell_type": "markdown",
   "metadata": {
    "deletable": true,
    "editable": true
   },
   "source": [
    "# Distortion Correction"
   ]
  },
  {
   "cell_type": "code",
   "execution_count": 1,
   "metadata": {
    "collapsed": false,
    "deletable": true,
    "editable": true
   },
   "outputs": [],
   "source": [
    "import numpy as np\n",
    "import cv2\n",
    "import glob\n",
    "import pickle\n",
    "import matplotlib.pyplot as plt\n",
    "\n",
    "import matplotlib.image as mpimg\n",
    "%matplotlib inline\n",
    "\n",
    "#Load calibrated camera\n",
    "Cam_Calib=pickle.load( open(\"CamCal/camCal_pickle.p\", \"rb\"))\n",
    "\n",
    "save_dir= r'output_images/pipeline/'\n",
    "\n",
    "cam_dist=Cam_Calib[\"dist\"]\n",
    "cam_mtx=Cam_Calib[\"mtx\"]\n",
    "\n",
    "def undistort_s(img, dist=cam_dist, mtx=cam_mtx):\n",
    "    '''Undistorts color image, ouputs undistorted img, saturation channel'''\n",
    "    dst=cv2.undistort(img, cam_mtx, cam_dist, None, cam_mtx)\n",
    "    HLS_img=cv2.cvtColor(dst, cv2.COLOR_RGB2HLS)\n",
    "    S_channel= HLS_img[:,:,2]\n",
    "    return dst, S_channel\n"
   ]
  },
  {
   "cell_type": "markdown",
   "metadata": {
    "deletable": true,
    "editable": true
   },
   "source": [
    "# Gradient Threshold"
   ]
  },
  {
   "cell_type": "code",
   "execution_count": 2,
   "metadata": {
    "collapsed": true,
    "deletable": true,
    "editable": true
   },
   "outputs": [],
   "source": [
    "#Diagonal sobel kernels from http://homepages.inf.ed.ac.uk/rbf/HIPR2/linedet.htm\n",
    "up_kernel = [[-1.,-1.,2.],\n",
    "         [-1.,2.,-1.],\n",
    "         [2.,-1.,-1.]]\n",
    "up_kernel=np.asarray(up_kernel)/12.0\n",
    "\n",
    "down_kernel = [[2.,-1.,-1.],\n",
    "         [-1.,2.,-1.],\n",
    "         [-1.,-1.,2.]]\n",
    "down_kernel=np.asarray(down_kernel)/12.0\n",
    "\n",
    "def abs_sobel_thresh(gray, orient='x', thresh_min=0, thresh_max=255, sobel_kernel=3):\n",
    "    \"\"\"Axis sobel, asumes img is gray image, returns binary image\"\"\"\n",
    "    # Apply the following steps to img\n",
    "    # 2) Take the derivative in x or y given orient = 'x' or 'y'\n",
    "    if orient=='x':\n",
    "        sobel = cv2.Sobel(gray, cv2.CV_64F, 1, 0, ksize=sobel_kernel)\n",
    "    elif orient=='y':\n",
    "        sobel = cv2.Sobel(gray, cv2.CV_64F, 0, 1, ksize=sobel_kernel)\n",
    "    elif orient=='+':\n",
    "        sobel = cv2.filter2D(gray,-1,up_kernel)\n",
    "    elif orient=='-':\n",
    "        sobel = cv2.filter2D(gray,-1,down_kernel)\n",
    "    else:\n",
    "        raise \"Not valid orientation!\"\n",
    "    # 3) Take the absolute value of the derivative or gradient\n",
    "    abs_sobel = np.absolute(sobel)\n",
    "    # 4) Scale to 8-bit (0 - 255) then convert to type = np.uint8\n",
    "    scaled_sobel=np.uint8(255 * abs_sobel/np.max(abs_sobel))\n",
    "    # 5) Create a mask of 1's where the scaled gradient magnitude \n",
    "    binary_output=np.zeros_like(scaled_sobel)\n",
    "            # is > thresh_min and < thresh_max\n",
    "    # 6) Return this mask as your binary_output image\n",
    "    binary_output[(scaled_sobel>thresh_min) & (scaled_sobel<thresh_max)] = 1\n",
    "    return binary_output\n",
    "\n",
    "def hls_tresh(S_channel, low_limit=0, high_limit=255):\n",
    "    \"\"\"Takes saturation channel, outputs binary image\"\"\"\n",
    "    s_binary=np.zeros_like(S_channel)\n",
    "    s_binary[(S_channel>=low_limit) & (S_channel<=high_limit)]=1\n",
    "    return s_binary\n",
    "\n",
    "def multiple_threshold(image, S_channel, min_dt=0, max_dt=255, s_low=128, s_high=255, k_slope1=up_kernel, k_slope2=down_kernel):\n",
    "    \"\"\"Takes gray image and Saturation channel, outputs binary image\"\"\"\n",
    "    # Apply the following steps to img\n",
    "    # 1) Apply sobel in direction\n",
    "#    #X not used, noisy\n",
    "    bin_diag=abs_sobel_thresh(image, orient='x', thresh_min=32, thresh_max=255, sobel_kernel=5)\n",
    "    #Less significant on Y axis , lots of noise\n",
    "    #Diagonal Sobels!\n",
    "#    pos=abs_sobel_thresh(image, orient='+', thresh_min=min_dt, thresh_max=max_dt)\n",
    "#    neg=abs_sobel_thresh(image, orient='-', thresh_min=min_dt, thresh_max=max_dt)\n",
    "#    bin_diag=np.zeros_like(pos)\n",
    "#    bin_diag[(pos==1)|(neg==1)]=1\n",
    "    #Close gaps in binary image\n",
    "    bin_diag=cv2.morphologyEx(bin_diag, cv2.MORPH_CLOSE, np.ones((7,3),np.uint8))\n",
    "#    \n",
    "    #Even smaller magnitudes cause noise, not using magnitude sobel\n",
    "    #Lots of noise (even when combining magnitude and orientation), not using orientation sobel\n",
    "    # 4) Saturation channel\n",
    "    s_bin= hls_tresh(S_channel ,low_limit=s_low, high_limit=s_high)\n",
    "    #Open big spaces, as to desaturate the saturated channel (bad_joke_here)\n",
    "    s_bin=cv2.morphologyEx(s_bin, cv2.MORPH_OPEN, np.ones((1,3),np.uint8))   \n",
    "    # 5)Mix 2 above\n",
    "    binary_output=np.zeros_like(bin_diag)\n",
    "    binary_output[((bin_diag==1)|(s_bin==1))]=1\n",
    "    #binary_output=bin_diag\n",
    "    binary_output= cv2.erode(binary_output,np.ones((1,3),np.uint8),iterations = 1)\n",
    "    return binary_output"
   ]
  },
  {
   "cell_type": "markdown",
   "metadata": {
    "deletable": true,
    "editable": true
   },
   "source": [
    "# Prespective transform"
   ]
  },
  {
   "cell_type": "code",
   "execution_count": 3,
   "metadata": {
    "collapsed": false,
    "deletable": true,
    "editable": true
   },
   "outputs": [],
   "source": [
    "#Polygon borders (Original IMG)\n",
    "src_pts = np.array([[230,700],[610,440],[670,440],[1080,700]], np.float32)\n",
    "#Destination Points\n",
    "dst_pts = np.array([[300,720],[300,-200],[950,-200],[950,720]], np.float32)\n",
    "\n",
    "def birds_eye(img, src=src_pts, dst=dst_pts):\n",
    "    \"\"\"Transform image to birdseye\"\"\"\n",
    "    M = cv2.getPerspectiveTransform(src, dst)\n",
    "    bird = cv2.warpPerspective(img, M, (img.shape[1], img.shape[0]), flags=cv2.INTER_NEAREST)\n",
    "    return bird\n",
    "\n",
    "def region_of_interest(img):\n",
    "    \"\"\"\n",
    "    Applies an image mask.\n",
    "    \n",
    "    Only keeps the region of the image defined by the polygon\n",
    "    formed from `vertices`. The rest of the image is set to black.\n",
    "    \"\"\"    \n",
    "    shape = img.shape\n",
    "    vertices = np.array([[(0,0),(shape[1],0),(shape[1],0),(6*shape[1]/7,shape[0]),\n",
    "                      (shape[1]/7,shape[0]), (0,0)]],dtype=np.int32)\n",
    "\n",
    "    mask = np.zeros_like(img)   \n",
    "    \n",
    "    #defining a 3 channel or 1 channel color to fill the mask with depending on the input image\n",
    "    if len(img.shape) > 2:\n",
    "        channel_count = img.shape[2]  # i.e. 3 or 4 depending on your image\n",
    "        ignore_mask_color = (255,) * channel_count\n",
    "    else:\n",
    "        ignore_mask_color = 255\n",
    "        \n",
    "    #filling pixels inside the polygon defined by \"vertices\" with the fill color    \n",
    "    cv2.fillPoly(mask, vertices, ignore_mask_color)\n",
    "    \n",
    "    #returning the image only where mask pixels are nonzero\n",
    "    masked_image = cv2.bitwise_and(img, mask)\n",
    "    return masked_image\n"
   ]
  },
  {
   "cell_type": "markdown",
   "metadata": {
    "deletable": true,
    "editable": true
   },
   "source": [
    "# Line detect"
   ]
  },
  {
   "cell_type": "code",
   "execution_count": 4,
   "metadata": {
    "collapsed": false,
    "deletable": true,
    "editable": true
   },
   "outputs": [],
   "source": [
    "#150\n",
    "window_width= 150\n",
    "#window_height=20\n",
    "window_height=72\n",
    "#50\n",
    "margin=80\n",
    "\n",
    "def window_mask(width, height, img_ref, center, level):\n",
    "    \"\"\"Get window mask\"\"\"\n",
    "    output = np.zeros_like(img_ref)\n",
    "    output[int(img_ref.shape[0]-(level+1)*height):int(img_ref.shape[0]-level*height),max(0,int(center-width/2)):min(int(center+width/2),img_ref.shape[1])] = 1\n",
    "    return output\n",
    "    \n",
    "def find_window_centroids(warped, window_width, window_height, margin, custom_window=None):\n",
    "    \"\"\"Find centroids of windows in image, returns windows centroids and central point of lanes\"\"\"\n",
    "    # Add here condition for custom distribution (not implemented)\n",
    "    window_centroids = [] # Store the (left,right) window centroid positions per level\n",
    "    window = np.ones(window_width) # Create our window template that we will use for convolutions\n",
    "    #Custom window, triangular shape as to push the weight of the convolution to the center\n",
    "    for i in range(int(len(window)/2)):\n",
    "        window[i]=window[i]+i\n",
    "        window[-i]=window[-i]+i\n",
    "    # First find the two starting positions for the left and right lane by using np.sum to get the vertical image slice\n",
    "    # and then np.convolve the vertical image slice with the window template \n",
    "    # Sum ocatve bottom of image to get slice, could use a different ratio\n",
    "    l_sum = np.sum(warped[int(warped.shape[0]*1/6):,:int(warped.shape[1]/2)], axis=0)\n",
    "    l_center = np.argmax(np.convolve(window,l_sum))-window_width/2\n",
    "    r_sum = np.sum(warped[int(warped.shape[0]*1/6):,int(warped.shape[1]/2):], axis=0)\n",
    "    r_center = np.argmax(np.convolve(window,r_sum))-window_width/2+int(warped.shape[1]/2)\n",
    "    #Center of both lane markings\n",
    "    center=r_center-l_center\n",
    "    # Add what we found for the first layer\n",
    "    window_centroids.append((l_center,r_center))\n",
    "    \n",
    "    # Go through each layer looking for max pixel locations\n",
    "    for level in range(1,(int)(warped.shape[0]/window_height)):\n",
    "        # convolve the window into the vertical slice of the image\n",
    "        image_layer = np.sum(warped[int(warped.shape[0]-(level+1)*window_height):int(warped.shape[0]-level*window_height),:], axis=0)\n",
    "        conv_signal = np.convolve(window, image_layer, mode='full')\n",
    "        # Find the best left centroid by using past left center as a reference\n",
    "        # Use window_width/2 as offset because convolution signal reference is at right side of window, not center of window\n",
    "        offset = window_width/2\n",
    "        l_min_index = int(max(l_center+offset-margin,0))\n",
    "        l_max_index = int(min(l_center+offset+margin,warped.shape[1]))\n",
    "        max_conv = np.argmax(conv_signal[l_min_index:l_max_index])+l_min_index-offset\n",
    "        if conv_signal[int(max_conv)]>0:\n",
    "            l_center=max_conv\n",
    "        else:\n",
    "            l_center=l_center\n",
    "        # Find the best right centroid by using past right center as a reference\n",
    "        r_min_index = int(max(r_center+offset-margin,0))\n",
    "        r_max_index = int(min(r_center+offset+margin,warped.shape[1]))\n",
    "        max_conv = np.argmax(conv_signal[r_min_index:r_max_index])+r_min_index-offset\n",
    "        if conv_signal[int(max_conv)]>0:\n",
    "            r_center=max_conv\n",
    "        else:\n",
    "            r_center=r_center\n",
    "        # Add what we found for that layer\n",
    "        window_centroids.append((l_center,r_center))\n",
    "    return window_centroids, center\n",
    "\n",
    "def draw_regression(warped, window_centroids, window_height):\n",
    "    \"\"\"Draws regression on image\"\"\"\n",
    "    if len(window_centroids) > 0:\n",
    "        \n",
    "        # Points used to draw all the left and right windows\n",
    "        l_points = np.zeros_like(warped)\n",
    "        r_points = np.zeros_like(warped)\n",
    "        #get pixels for regression (currently unused)\n",
    "        nonzero=warped.nonzero()\n",
    "        nonzerox=np.array(nonzero[0])\n",
    "        nonzeroy=np.array(nonzero[1])\n",
    "        left_inds=[]\n",
    "        right_inds=[]\n",
    "        # Go through each level and draw the windows \n",
    "        for level in range(0,len(window_centroids)):\n",
    "            # Window_mask is a function to draw window areas\n",
    "            l_mask = window_mask(window_width,window_height,warped,window_centroids[level][0],level)\n",
    "            r_mask = window_mask(window_width,window_height,warped,window_centroids[level][1],level)\n",
    "            # Add graphic points from window mask here to total pixels found \n",
    "            l_points[(l_points == 255) | ((l_mask == 1) ) ] = 255\n",
    "            r_points[(r_points == 255) | ((r_mask == 1) ) ] = 255\n",
    "            #Setting boundaries\n",
    "            topy=720 - level*window_height\n",
    "            botomy=720- (level+1)*window_height\n",
    "            x_left_low=int(window_centroids[level][0]-window_width/2)\n",
    "            x_left_high=int(window_centroids[level][0]+window_width/2)\n",
    "            x_right_low=int(window_centroids[level][1]-window_width/2)\n",
    "            x_right_high=int(window_centroids[level][1]+window_width/2)\n",
    "            \n",
    "            good_left_inds = ((nonzerox >= botomy) & (nonzerox < topy) & (nonzeroy >= x_left_low) & (nonzeroy < x_left_high)).nonzero()[0]\n",
    "            good_right_inds = ((nonzerox >= botomy) & (nonzerox < topy) & (nonzeroy >= x_right_low) & (nonzeroy < x_right_high)).nonzero()[0]\n",
    "            \n",
    "            left_inds.append(good_left_inds)\n",
    "            right_inds.append(good_right_inds)\n",
    "            \n",
    "        # Draw windows        \n",
    "        template = np.array(r_points+l_points,np.uint8) # add both left and right window pixels together\n",
    "        zero_channel = np.zeros_like(template) # create a zero color channle \n",
    "        template = np.array(cv2.merge((zero_channel,template,zero_channel)),np.uint8) # make window pixels green\n",
    "        warpage = np.array(cv2.merge((255*warped,255*warped,255*warped)),np.uint8) # making the original road pixels 3 color channels\n",
    "        output = cv2.addWeighted(warpage, 1, template, 0.5, 0.0) # overlay the orignal road image with window results\n",
    "\n",
    "        #Get polinomials\n",
    "        left_inds=np.concatenate(left_inds)\n",
    "        right_inds=np.concatenate(right_inds)\n",
    "        \n",
    "        leftx=nonzerox[left_inds]\n",
    "        lefty=nonzeroy[left_inds]\n",
    "        rightx=nonzerox[right_inds]\n",
    "        righty=nonzeroy[right_inds]\n",
    "        \n",
    "        left_fit=np.polyfit(leftx, lefty, 2)\n",
    "        right_fit=np.polyfit(rightx, righty, 2)\n",
    "        \n",
    "        #Draw polinomial lines\n",
    "        ploty =np.linspace(0, warped.shape[0]-1, warped.shape[0])\n",
    "        left_fitx=(left_fit[0]*ploty**2 + left_fit[1]*ploty + left_fit[2])\n",
    "        right_fitx = (right_fit[0]*ploty**2 + right_fit[1]*ploty + right_fit[2])\n",
    "        left_line=[]\n",
    "        right_line=[]\n",
    "        for y,l,r in zip(ploty, left_fitx, right_fitx):\n",
    "            left_line.append([np.int32(l), np.int32(y)])\n",
    "            right_line.append([np.int32(r), np.int32(y)])\n",
    "        pts1=np.array(left_line, np.int32)\n",
    "        pts2=np.array(right_line, np.int32)\n",
    "        pts1.reshape((-1,1,2))\n",
    "        pts2.reshape((-1,1,2))\n",
    "        output=cv2.polylines(output, [pts1, pts2], False, (255,0,0), 3)\n",
    "    # If no window centers found, just display orginal road image and empty polynom\n",
    "    else:\n",
    "        output = np.array(cv2.merge((warped,warped,warped)),np.uint8)\n",
    "        print(\"No centers Found!\")\n",
    "        right_fit=[]\n",
    "        left_fit=[]\n",
    "    return output, left_fit, right_fit\n",
    "\n",
    "def tangent_circle(poly_l, poly_r, pic_center, eval_point=720):\n",
    "    \"\"\"Takes polynomial regressions and lanes center, returns curvature and distance to center [m]\"\"\"\n",
    "    #pixels to meter ratio\n",
    "    ym_per_pix = 3.0/68\n",
    "    xm_per_pix = 3.7/635\n",
    "    ploty = np.linspace(0, 719, num=720)\n",
    "    leftx=np.array([poly_l[0]*(y**2)+poly_l[1]*(y)+poly_l[0] for y in ploty])\n",
    "    rightx=np.array([poly_r[0]*(y**2)+poly_r[1]*(y)+poly_r[0] for y in ploty])\n",
    "    \n",
    "    center=(pic_center-700)*xm_per_pix\n",
    "\n",
    "    poly_ml=np.polyfit(ploty*ym_per_pix, leftx*xm_per_pix, 2)\n",
    "    poly_mr=np.polyfit(ploty*ym_per_pix, rightx*xm_per_pix, 2)\n",
    "    \n",
    "    eval_point*=ym_per_pix\n",
    "    \n",
    "    curv_l = ((1 + (2*poly_ml[0]*eval_point + poly_ml[1])**2)**1.5) / np.absolute(2*poly_ml[0])\n",
    "    curv_r = ((1 + (2*poly_mr[0]*eval_point + poly_mr[1])**2)**1.5) / np.absolute(2*poly_mr[0])\n",
    "    \n",
    "    return curv_l, curv_r, center\n",
    "\n",
    "def unwarp_color(warped_color, left_fit, right_fit, text, src=dst_pts, dst=src_pts):\n",
    "    \"\"\"Takes color image, returns identified poly, unwarps to original\"\"\"\n",
    "    #Draw polinomial lines\n",
    "    ploty =np.linspace(0, warped_color.shape[0]-1, warped_color.shape[0])\n",
    "    left_fitx=(left_fit[0]*ploty**2 + left_fit[1]*ploty + left_fit[2])\n",
    "    right_fitx = (right_fit[0]*ploty**2 + right_fit[1]*ploty + right_fit[2])\n",
    "    left_line=[]\n",
    "    right_line=[]\n",
    "    for y,l,r in zip(ploty, left_fitx, right_fitx):\n",
    "        left_line.append([np.int32(l), np.int32(y)])\n",
    "        right_line.append([np.int32(r), np.int32(y)])\n",
    "    pts1=np.array(left_line, np.int32)\n",
    "    pts2=np.array(right_line, np.int32)\n",
    "    pts1.reshape((-1,1,2))\n",
    "    pts2.reshape((-1,1,2))\n",
    "    total_pts=[]\n",
    "    total_pts.append(pts1)\n",
    "    total_pts.append(list(reversed(pts2)))\n",
    "    total_pts=np.array(total_pts).reshape((-1,1,2))\n",
    "    curvature_txt=\"Curvature: \"+str(text[0])[:5] +\"[m]\"\n",
    "    center_txt=\"Distance to lane Center: \"+str(text[2])[0:5]+\"[m]\"\n",
    "    output=np.zeros_like(warped_color)\n",
    "    output=cv2.fillPoly(output, [total_pts], color=(63,79,232))\n",
    "    output=cv2.polylines(output, [pts1, pts2], False, (13,26,129), 20)\n",
    "#    output=cv2.fillPoly(output, [total_pts], color=(255,0,255))\n",
    "#    output=cv2.polylines(output, [pts1, pts2], False, (255,0,0), 20)\n",
    "    M = cv2.getPerspectiveTransform(src, dst)\n",
    "    output = cv2.warpPerspective(output, M, (warped_color.shape[1], warped_color.shape[0]), flags=cv2.INTER_NEAREST)\n",
    "    output = cv2.putText(output,curvature_txt, (50,50), cv2.FONT_HERSHEY_COMPLEX, fontScale=1, color=(255,255,255))\n",
    "    output = cv2.putText(output,center_txt, (50,100), cv2.FONT_HERSHEY_COMPLEX, fontScale=1, color=(255,255,255))\n",
    "    return output\n",
    "    \n",
    "    "
   ]
  },
  {
   "cell_type": "raw",
   "metadata": {
    "deletable": true,
    "editable": true
   },
   "source": []
  },
  {
   "cell_type": "code",
   "execution_count": 5,
   "metadata": {
    "collapsed": false,
    "deletable": true,
    "editable": true
   },
   "outputs": [],
   "source": [
    "#Full pipeline\n",
    "buffer_left=[]\n",
    "buffer_right=[]\n",
    "last_data=[]\n",
    "no_fault=0\n",
    "total_fault=0\n",
    "\n",
    "def sanity(left_poly, right_poly):\n",
    "    if len(last_data)<1:\n",
    "        return True\n",
    "    if right_poly[2]-left_poly[2]<400:\n",
    "        print(\"Fault top\")\n",
    "        return False\n",
    "    wide_left=left_poly[0]*(720*720) +left_poly[1]*720 + left_poly[2]\n",
    "    wide_right=right_poly[0]*(720*720) +right_poly[1]*720 + right_poly[2]\n",
    "    # past wide points\n",
    "    poly_l_last= last_data[0]\n",
    "    poly_r_last=last_data[1]\n",
    "\n",
    "    wide_left_last=poly_l_last[0]*(720*720) +poly_l_last[1]*720 + poly_l_last[2]\n",
    "    wide_right_last=poly_r_last[0]*(720*720) +poly_r_last[1]*720 + poly_r_last[2]\n",
    "    \n",
    "    wide=wide_right-wide_left\n",
    "    past_wide=wide_right_last-wide_left_last\n",
    "    wide_sane=np.allclose([wide],[past_wide], atol=165)\n",
    "    \n",
    "    #wide_sane=np.allclose([wide_left_last, wide_right_last],[wide_left, wide_right], atol=120)\n",
    "    \n",
    "    left_sane=np.allclose(left_poly[2], last_data[0][2], atol=200)\n",
    "    right_sane=np.allclose(right_poly[2], last_data[1][2], rtol=200)\n",
    "    if not wide_sane:\n",
    "        print(\"Wide inconsistent\")\n",
    "    \n",
    "    return left_sane & right_sane & wide_sane\n",
    "\n",
    "def evaluate_buffer(poly_l, poly_r):\n",
    "    global buffer_left\n",
    "    global buffer_right\n",
    "    buffer_left.append(poly_l)\n",
    "    buffer_right.append(poly_r)\n",
    "    if len(buffer_left)>12:\n",
    "        buffer_left=buffer_left[1:]\n",
    "        buffer_right=buffer_right[1:]\n",
    "    \n",
    "    mean_fit_l=np.mean(np.asarray(buffer_left), axis=0)\n",
    "    mean_fit_r=np.mean(np.asarray(buffer_right), axis=0)\n",
    "    #print(\"Old fit:\" poly_l)\n",
    "    #print(\"New fit:\" mean_fit_l)\n",
    "    return mean_fit_l, mean_fit_r\n",
    "\n",
    "\n",
    "def new_pipeline(camera_image, window_width=window_width, window_height=window_height, margin=margin, save_step=False, save_dir=r'output_images/pipeline/', prefix='0', buffered=False):\n",
    "    image, S_channel = image, S_channel=undistort_s(camera_image)\n",
    "    warp_color= birds_eye(image)\n",
    "    warp_S= birds_eye(S_channel)\n",
    "    gray=cv2.cvtColor(warp_color, cv2.COLOR_RGB2GRAY)\n",
    "    gray=cv2.blur(gray,(3,3))\n",
    "    bin_im=multiple_threshold(gray, warp_S)\n",
    "    bin_roi=region_of_interest(bin_im)\n",
    "    window_centroids, pic_center = find_window_centroids(bin_roi, window_width, window_height, margin)\n",
    "    detect_lines, left_fit, right_fit =draw_regression(bin_roi, window_centroids, window_height)\n",
    "    if buffered:\n",
    "        global no_fault\n",
    "        global last_data\n",
    "        global total_fault\n",
    "        if sanity(left_fit, right_fit):\n",
    "            #last_data=[left_fit, right_fit]\n",
    "            no_fault=0\n",
    "            left_fit, right_fit = evaluate_buffer(left_fit, right_fit)\n",
    "            last_data=[left_fit, right_fit]\n",
    "        else:\n",
    "            no_fault+=1\n",
    "            total_fault+=1\n",
    "            print(\"Consecutive Fault: {}\".format(no_fault))\n",
    "            print(\"Last good data\")\n",
    "            print(last_data)\n",
    "            print(\"wrong data\")\n",
    "            print(left_fit, right_fit)\n",
    "            if no_fault<26:\n",
    "                left_fit, right_fit= last_data\n",
    "            else:\n",
    "                print(\"Recalibrating\")\n",
    "                last_data=[left_fit, right_fit]\n",
    "                no_fault=0\n",
    "        \n",
    "    curv_l, curv_r, center = tangent_circle(left_fit, right_fit, pic_center)\n",
    "    text_array=[curv_l, curv_r, center]\n",
    "    detect_color=unwarp_color(warp_color, left_fit, right_fit, text_array)\n",
    "    result=cv2.addWeighted(image, 1, detect_color, .8, 0)\n",
    "    \n",
    "\n",
    "    if save_step:\n",
    "        cv2.imwrite(save_dir+prefix+\"undist.jpg\", image)\n",
    "        cv2.imwrite(save_dir+prefix+\"S_channel.jpg\", 255*S_channel)\n",
    "        cv2.imwrite(save_dir+prefix+\"warp_color.jpg\", warp_color)\n",
    "        cv2.imwrite(save_dir+prefix+\"gray.jpg\", gray)\n",
    "        cv2.imwrite(save_dir+prefix+\"warp_roi.jpg\", 255*warp_S)\n",
    "        cv2.imwrite(save_dir+prefix+\"bin.jpg\", 255*bin_im)\n",
    "        cv2.imwrite(save_dir+prefix+\"bin_roi.jpg\", 255*bin_roi)\n",
    "        cv2.imwrite(save_dir+prefix+\"detected.jpg\", detect_lines)\n",
    "        cv2.imwrite(save_dir+prefix+\"detected_color.jpg\", detect_color)\n",
    "        cv2.imwrite(save_dir+prefix+\"Result.jpg\", result)\n",
    "    \n",
    "    return result, left_fit, right_fit, text_array\n",
    "\n",
    "def frame_only(camera_image):\n",
    "    img, left_fit, right_fit, text_array = new_pipeline(camera_image, buffered=True)\n",
    "    return img"
   ]
  },
  {
   "cell_type": "code",
   "execution_count": 6,
   "metadata": {
    "collapsed": false,
    "deletable": true,
    "editable": true
   },
   "outputs": [
    {
     "data": {
      "text/plain": [
       "\"\\nimg_files = glob.glob('test_images/*.jpg')\\nhistory=[]\\nfor i, file in enumerate(img_files):\\n    camera_image=cv2.imread(file)\\n    history.append(new_pipeline(camera_image, save_step=True, prefix=str(i))[1:])\\n    \""
      ]
     },
     "execution_count": 6,
     "metadata": {},
     "output_type": "execute_result"
    }
   ],
   "source": [
    "\n",
    "img_files = glob.glob('test_images/*.jpg')\n",
    "history=[]\n",
    "for i, file in enumerate(img_files):\n",
    "    camera_image=cv2.imread(file)\n",
    "    history.append(new_pipeline(camera_image, save_step=True, prefix=str(i))[1:])\n",
    "    "
   ]
  },
  {
   "cell_type": "code",
   "execution_count": 7,
   "metadata": {
    "collapsed": false,
    "deletable": true,
    "editable": true,
    "scrolled": false
   },
   "outputs": [
    {
     "name": "stdout",
     "output_type": "stream",
     "text": [
      "[MoviePy] >>>> Building video Test.mp4\n",
      "[MoviePy] Writing video Test.mp4\n"
     ]
    },
    {
     "name": "stderr",
     "output_type": "stream",
     "text": [
      " 45%|████████████▌               | 566/1261 [02:38<03:10,  3.64it/s]"
     ]
    },
    {
     "name": "stdout",
     "output_type": "stream",
     "text": [
      "Consecutive Fault: 1\n",
      "Last good data\n",
      "[array([ -2.20215350e-04,   3.14819343e-01,   1.90465197e+02]), array([  5.22683134e-05,  -1.90878632e-01,   1.10536399e+03])]\n",
      "wrong data\n",
      "[ -4.76890237e-04   8.30477230e-01  -1.32788605e+01] [ -4.75753013e-05   5.70256629e-02   9.64032472e+02]\n"
     ]
    },
    {
     "name": "stderr",
     "output_type": "stream",
     "text": [
      " 46%|████████████▊               | 577/1261 [02:42<04:10,  2.73it/s]"
     ]
    },
    {
     "name": "stdout",
     "output_type": "stream",
     "text": [
      "Consecutive Fault: 1\n",
      "Last good data\n",
      "[array([ -6.81819623e-05,   8.48418541e-02,   2.84735196e+02]), array([ -2.70037853e-05,  -7.48967156e-03,   1.01155763e+03])]\n",
      "wrong data\n",
      "[ -8.35465547e-04   1.04901903e+00  -9.95702343e+00] [  1.15862860e-04  -1.04303922e-01   1.01622064e+03]\n"
     ]
    },
    {
     "name": "stderr",
     "output_type": "stream",
     "text": [
      " 46%|████████████▊               | 579/1261 [02:43<04:19,  2.63it/s]"
     ]
    },
    {
     "name": "stdout",
     "output_type": "stream",
     "text": [
      "Consecutive Fault: 1\n",
      "Last good data\n",
      "[array([ -2.87928562e-05,   3.44524574e-02,   3.01803613e+02]), array([ -2.06042600e-05,  -1.04578220e-02,   1.00970761e+03])]\n",
      "wrong data\n",
      "[ -8.36884817e-04   1.04932207e+00  -9.36540228e+00] [  1.42106733e-04  -1.19066813e-01   1.01185139e+03]\n"
     ]
    },
    {
     "name": "stderr",
     "output_type": "stream",
     "text": [
      " 49%|█████████████▊              | 624/1261 [02:57<03:55,  2.71it/s]"
     ]
    },
    {
     "name": "stdout",
     "output_type": "stream",
     "text": [
      "Consecutive Fault: 1\n",
      "Last good data\n",
      "[array([  7.57093617e-04,  -1.04215347e+00,   6.40027961e+02]), array([  6.11602129e-04,  -8.31562944e-01,   1.24471811e+03])]\n",
      "wrong data\n",
      "[  9.89836510e-04  -1.49984003e+00   8.59057161e+02] [  7.28502030e-04  -1.01901580e+00   1.31007020e+03]\n"
     ]
    },
    {
     "name": "stderr",
     "output_type": "stream",
     "text": [
      "\r",
      " 50%|█████████████▉              | 625/1261 [02:58<03:40,  2.89it/s]"
     ]
    },
    {
     "name": "stdout",
     "output_type": "stream",
     "text": [
      "Fault top\n",
      "Consecutive Fault: 2\n",
      "Last good data\n",
      "[array([  7.57093617e-04,  -1.04215347e+00,   6.40027961e+02]), array([  6.11602129e-04,  -8.31562944e-01,   1.24471811e+03])]\n",
      "wrong data\n",
      "[  1.33782622e-03  -1.93112624e+00   9.96068193e+02] [  6.89123186e-04  -9.95131777e-01   1.31363825e+03]\n"
     ]
    },
    {
     "name": "stderr",
     "output_type": "stream",
     "text": [
      "\r",
      " 50%|█████████████▉              | 626/1261 [02:58<03:43,  2.84it/s]"
     ]
    },
    {
     "name": "stdout",
     "output_type": "stream",
     "text": [
      "Fault top\n",
      "Consecutive Fault: 3\n",
      "Last good data\n",
      "[array([  7.57093617e-04,  -1.04215347e+00,   6.40027961e+02]), array([  6.11602129e-04,  -8.31562944e-01,   1.24471811e+03])]\n",
      "wrong data\n",
      "[  1.55480784e-03  -2.21742304e+00   1.09159418e+03] [  6.63734416e-04  -9.81236769e-01   1.31774808e+03]\n"
     ]
    },
    {
     "name": "stderr",
     "output_type": "stream",
     "text": [
      "\r",
      " 50%|█████████████▉              | 627/1261 [02:59<04:02,  2.61it/s]"
     ]
    },
    {
     "name": "stdout",
     "output_type": "stream",
     "text": [
      "Fault top\n",
      "Consecutive Fault: 4\n",
      "Last good data\n",
      "[array([  7.57093617e-04,  -1.04215347e+00,   6.40027961e+02]), array([  6.11602129e-04,  -8.31562944e-01,   1.24471811e+03])]\n",
      "wrong data\n",
      "[  1.13272001e-03  -1.75261591e+00   9.76138430e+02] [  7.48471726e-04  -1.05189321e+00   1.32783404e+03]\n"
     ]
    },
    {
     "name": "stderr",
     "output_type": "stream",
     "text": [
      " 77%|█████████████████████▍      | 967/1261 [04:30<01:01,  4.77it/s]"
     ]
    },
    {
     "name": "stdout",
     "output_type": "stream",
     "text": [
      "Consecutive Fault: 1\n",
      "Last good data\n",
      "[array([  1.92394994e-04,  -4.89300979e-01,   5.79388417e+02]), array([  2.43427173e-04,  -6.08600777e-01,   1.29657088e+03])]\n",
      "wrong data\n",
      "[ -1.08299747e-03   7.56895405e-01   3.11535470e+02] [  3.12260996e-04  -6.15894788e-01   1.28156047e+03]\n"
     ]
    },
    {
     "name": "stderr",
     "output_type": "stream",
     "text": [
      " 77%|█████████████████████▌      | 969/1261 [04:31<01:25,  3.41it/s]"
     ]
    },
    {
     "name": "stdout",
     "output_type": "stream",
     "text": [
      "Consecutive Fault: 1\n",
      "Last good data\n",
      "[array([  1.17731619e-04,  -4.15894554e-01,   5.64619693e+02]), array([  2.50074482e-04,  -6.07553131e-01,   1.29488005e+03])]\n",
      "wrong data\n",
      "[ -8.05636685e-04   5.37406752e-01   3.40032884e+02] [  2.86143252e-04  -5.94134465e-01   1.28138631e+03]\n"
     ]
    },
    {
     "name": "stderr",
     "output_type": "stream",
     "text": [
      " 77%|█████████████████████▋      | 976/1261 [04:32<01:15,  3.75it/s]"
     ]
    },
    {
     "name": "stdout",
     "output_type": "stream",
     "text": [
      "Consecutive Fault: 1\n",
      "Last good data\n",
      "[array([  4.76235569e-05,  -3.25960820e-01,   5.45406728e+02]), array([  2.99907011e-04,  -6.04884422e-01,   1.28074143e+03])]\n",
      "wrong data\n",
      "[ -9.69493939e-04   8.01021164e-01   2.46950057e+02] [  1.63126405e-04  -4.18593513e-01   1.21694928e+03]\n"
     ]
    },
    {
     "name": "stderr",
     "output_type": "stream",
     "text": [
      " 78%|█████████████████████▋      | 979/1261 [04:33<01:06,  4.23it/s]"
     ]
    },
    {
     "name": "stdout",
     "output_type": "stream",
     "text": [
      "Consecutive Fault: 1\n",
      "Last good data\n",
      "[array([ -5.89733673e-05,  -2.05649766e-01,   5.14619979e+02]), array([  3.46238936e-04,  -6.27390655e-01,   1.27733049e+03])]\n",
      "wrong data\n",
      "[ -9.12632051e-04   7.39168433e-01   2.66378639e+02] [  4.97239439e-04  -7.23013422e-01   1.27424590e+03]\n"
     ]
    },
    {
     "name": "stderr",
     "output_type": "stream",
     "text": [
      "\r",
      " 78%|█████████████████████▊      | 980/1261 [04:33<01:05,  4.26it/s]"
     ]
    },
    {
     "name": "stdout",
     "output_type": "stream",
     "text": [
      "Consecutive Fault: 2\n",
      "Last good data\n",
      "[array([ -5.89733673e-05,  -2.05649766e-01,   5.14619979e+02]), array([  3.46238936e-04,  -6.27390655e-01,   1.27733049e+03])]\n",
      "wrong data\n",
      "[ -1.06980476e-03   9.19079424e-01   2.16240799e+02] [  5.01826917e-04  -7.29230921e-01   1.27486938e+03]\n"
     ]
    },
    {
     "name": "stderr",
     "output_type": "stream",
     "text": [
      "\r",
      " 78%|█████████████████████▊      | 981/1261 [04:33<01:11,  3.93it/s]"
     ]
    },
    {
     "name": "stdout",
     "output_type": "stream",
     "text": [
      "Consecutive Fault: 3\n",
      "Last good data\n",
      "[array([ -5.89733673e-05,  -2.05649766e-01,   5.14619979e+02]), array([  3.46238936e-04,  -6.27390655e-01,   1.27733049e+03])]\n",
      "wrong data\n",
      "[ -9.14943623e-04   7.78643340e-01   2.41028597e+02] [  4.88559134e-04  -7.17676237e-01   1.27294341e+03]\n"
     ]
    },
    {
     "name": "stderr",
     "output_type": "stream",
     "text": [
      "\r",
      " 78%|█████████████████████▊      | 982/1261 [04:34<01:18,  3.57it/s]"
     ]
    },
    {
     "name": "stdout",
     "output_type": "stream",
     "text": [
      "Consecutive Fault: 4\n",
      "Last good data\n",
      "[array([ -5.89733673e-05,  -2.05649766e-01,   5.14619979e+02]), array([  3.46238936e-04,  -6.27390655e-01,   1.27733049e+03])]\n",
      "wrong data\n",
      "[ -6.24834893e-04   4.87674659e-01   3.09785639e+02] [  4.63548364e-04  -6.98216073e-01   1.26979622e+03]\n"
     ]
    },
    {
     "name": "stderr",
     "output_type": "stream",
     "text": [
      "\r",
      " 78%|█████████████████████▊      | 983/1261 [04:34<01:15,  3.70it/s]"
     ]
    },
    {
     "name": "stdout",
     "output_type": "stream",
     "text": [
      "Consecutive Fault: 5\n",
      "Last good data\n",
      "[array([ -5.89733673e-05,  -2.05649766e-01,   5.14619979e+02]), array([  3.46238936e-04,  -6.27390655e-01,   1.27733049e+03])]\n",
      "wrong data\n",
      "[ -6.96852354e-04   5.94655099e-01   2.67948058e+02] [  4.50668882e-04  -6.95975365e-01   1.27521468e+03]\n"
     ]
    },
    {
     "name": "stderr",
     "output_type": "stream",
     "text": [
      " 78%|█████████████████████▉      | 987/1261 [04:35<01:05,  4.18it/s]"
     ]
    },
    {
     "name": "stdout",
     "output_type": "stream",
     "text": [
      "Consecutive Fault: 1\n",
      "Last good data\n",
      "[array([ -5.60626862e-05,  -1.58278067e-01,   4.85310356e+02]), array([  3.87315053e-04,  -6.47057909e-01,   1.27246361e+03])]\n",
      "wrong data\n",
      "[ -8.83146185e-04   8.07722156e-01   2.04742902e+02] [  5.39251658e-04  -7.53756333e-01   1.27129921e+03]\n"
     ]
    },
    {
     "name": "stderr",
     "output_type": "stream",
     "text": [
      " 79%|██████████████████████      | 992/1261 [04:36<00:59,  4.49it/s]"
     ]
    },
    {
     "name": "stdout",
     "output_type": "stream",
     "text": [
      "Fault top\n",
      "Consecutive Fault: 1\n",
      "Last good data\n",
      "[array([  8.33443433e-05,  -2.41369174e-01,   4.79215971e+02]), array([  4.48562476e-04,  -6.92913915e-01,   1.27350294e+03])]\n",
      "wrong data\n",
      "[  5.24408066e-04  -6.34883150e-01   5.38647715e+02] [ -3.86160576e-03   5.06811794e+00  -6.48471010e+02]\n"
     ]
    },
    {
     "name": "stderr",
     "output_type": "stream",
     "text": [
      " 79%|██████████████████████▏     | 999/1261 [04:38<00:57,  4.57it/s]"
     ]
    },
    {
     "name": "stdout",
     "output_type": "stream",
     "text": [
      "Consecutive Fault: 1\n",
      "Last good data\n",
      "[array([  3.12523616e-04,  -4.26848770e-01,   4.92130208e+02]), array([  5.24086715e-04,  -7.60083337e-01,   1.27655884e+03])]\n",
      "wrong data\n",
      "[ -9.31962005e-04   8.88581614e-01   1.37427482e+02] [  9.81525494e-04  -1.11338134e+00   1.33687845e+03]\n"
     ]
    },
    {
     "name": "stderr",
     "output_type": "stream",
     "text": [
      " 80%|█████████████████████▌     | 1007/1261 [04:40<00:59,  4.26it/s]"
     ]
    },
    {
     "name": "stdout",
     "output_type": "stream",
     "text": [
      "Consecutive Fault: 1\n",
      "Last good data\n",
      "[array([  1.56702517e-04,  -2.35501533e-01,   4.05748615e+02]), array([  7.00956231e-04,  -9.45596369e-01,   1.32907590e+03])]\n",
      "wrong data\n",
      "[ -1.36883420e-03   1.45994400e+00  -4.79290928e+01] [  4.62740768e-04  -7.32117403e-01   1.27252870e+03]\n"
     ]
    },
    {
     "name": "stderr",
     "output_type": "stream",
     "text": [
      "\r",
      " 80%|█████████████████████▌     | 1008/1261 [04:40<01:04,  3.90it/s]"
     ]
    },
    {
     "name": "stdout",
     "output_type": "stream",
     "text": [
      "Consecutive Fault: 2\n",
      "Last good data\n",
      "[array([  1.56702517e-04,  -2.35501533e-01,   4.05748615e+02]), array([  7.00956231e-04,  -9.45596369e-01,   1.32907590e+03])]\n",
      "wrong data\n",
      "[ -1.56652313e-03   1.66239237e+00  -1.00738002e+02] [  4.47214984e-04  -7.34091556e-01   1.27856814e+03]\n"
     ]
    },
    {
     "name": "stderr",
     "output_type": "stream",
     "text": [
      "\r",
      " 80%|█████████████████████▌     | 1009/1261 [04:40<01:03,  3.95it/s]"
     ]
    },
    {
     "name": "stdout",
     "output_type": "stream",
     "text": [
      "Consecutive Fault: 3\n",
      "Last good data\n",
      "[array([  1.56702517e-04,  -2.35501533e-01,   4.05748615e+02]), array([  7.00956231e-04,  -9.45596369e-01,   1.32907590e+03])]\n",
      "wrong data\n",
      "[ -7.13636182e-04   6.99878882e-01   1.55580868e+02] [  4.29950700e-04  -7.33488498e-01   1.28441229e+03]\n"
     ]
    },
    {
     "name": "stderr",
     "output_type": "stream",
     "text": [
      "\r",
      " 80%|█████████████████████▋     | 1010/1261 [04:41<01:03,  3.93it/s]"
     ]
    },
    {
     "name": "stdout",
     "output_type": "stream",
     "text": [
      "Consecutive Fault: 4\n",
      "Last good data\n",
      "[array([  1.56702517e-04,  -2.35501533e-01,   4.05748615e+02]), array([  7.00956231e-04,  -9.45596369e-01,   1.32907590e+03])]\n",
      "wrong data\n",
      "[ -8.15360956e-04   8.03771072e-01   1.29855525e+02] [  3.73308082e-04  -6.79925906e-01   1.26735305e+03]\n"
     ]
    },
    {
     "name": "stderr",
     "output_type": "stream",
     "text": [
      " 81%|█████████████████████▊     | 1021/1261 [04:44<01:01,  3.91it/s]"
     ]
    },
    {
     "name": "stdout",
     "output_type": "stream",
     "text": [
      "Wide inconsistent\n",
      "Consecutive Fault: 1\n",
      "Last good data\n",
      "[array([ -8.85053186e-06,  -8.99128869e-02,   3.54840422e+02]), array([  2.80825713e-04,  -6.38742777e-01,   1.27610076e+03])]\n",
      "wrong data\n",
      "[  3.80185704e-04  -4.79208712e-01   4.40937322e+02] [ -1.27655197e-03   5.51313223e-01   1.06735498e+03]\n"
     ]
    },
    {
     "name": "stderr",
     "output_type": "stream",
     "text": [
      "\r",
      " 81%|█████████████████████▉     | 1022/1261 [04:44<01:00,  3.97it/s]"
     ]
    },
    {
     "name": "stdout",
     "output_type": "stream",
     "text": [
      "Wide inconsistent\n",
      "Consecutive Fault: 2\n",
      "Last good data\n",
      "[array([ -8.85053186e-06,  -8.99128869e-02,   3.54840422e+02]), array([  2.80825713e-04,  -6.38742777e-01,   1.27610076e+03])]\n",
      "wrong data\n",
      "[  4.38110265e-04  -5.24158522e-01   4.39233384e+02] [ -1.26654016e-03   4.86104567e-01   1.09259362e+03]\n"
     ]
    },
    {
     "name": "stderr",
     "output_type": "stream",
     "text": [
      " 81%|█████████████████████▉     | 1025/1261 [04:45<01:00,  3.90it/s]"
     ]
    },
    {
     "name": "stdout",
     "output_type": "stream",
     "text": [
      "Consecutive Fault: 1\n",
      "Last good data\n",
      "[array([  1.41064191e-04,  -2.39142158e-01,   3.82983756e+02]), array([ -4.52182541e-05,  -3.54611518e-01,   1.21880609e+03])]\n",
      "wrong data\n",
      "[ -1.28810746e-03   1.27247520e+00  -5.32704200e+00] [ -2.73532134e-03   2.15306377e+00   6.66635637e+02]\n"
     ]
    },
    {
     "name": "stderr",
     "output_type": "stream",
     "text": [
      "\r",
      " 81%|█████████████████████▉     | 1026/1261 [04:45<01:04,  3.65it/s]"
     ]
    },
    {
     "name": "stdout",
     "output_type": "stream",
     "text": [
      "Fault top\n",
      "Consecutive Fault: 2\n",
      "Last good data\n",
      "[array([  1.41064191e-04,  -2.39142158e-01,   3.82983756e+02]), array([ -4.52182541e-05,  -3.54611518e-01,   1.21880609e+03])]\n",
      "wrong data\n",
      "[  4.96529984e-04  -7.72147271e-01   5.68594836e+02] [ -2.31193966e-03   1.86089824e+00   6.84654507e+02]\n"
     ]
    },
    {
     "name": "stderr",
     "output_type": "stream",
     "text": [
      "\r",
      " 81%|█████████████████████▉     | 1027/1261 [04:45<01:19,  2.94it/s]"
     ]
    },
    {
     "name": "stdout",
     "output_type": "stream",
     "text": [
      "Fault top\n",
      "Consecutive Fault: 3\n",
      "Last good data\n",
      "[array([  1.41064191e-04,  -2.39142158e-01,   3.82983756e+02]), array([ -4.52182541e-05,  -3.54611518e-01,   1.21880609e+03])]\n",
      "wrong data\n",
      "[  2.17204503e-04  -5.46578064e-01   5.42631695e+02] [ -3.72864848e-03   3.37861284e+00   2.89420896e+02]\n"
     ]
    },
    {
     "name": "stderr",
     "output_type": "stream",
     "text": [
      "\r",
      " 82%|██████████████████████     | 1028/1261 [04:46<01:14,  3.15it/s]"
     ]
    },
    {
     "name": "stdout",
     "output_type": "stream",
     "text": [
      "Fault top\n",
      "Consecutive Fault: 4\n",
      "Last good data\n",
      "[array([  1.41064191e-04,  -2.39142158e-01,   3.82983756e+02]), array([ -4.52182541e-05,  -3.54611518e-01,   1.21880609e+03])]\n",
      "wrong data\n",
      "[  4.02494494e-04  -6.87672624e-01   5.58531601e+02] [ -1.99316715e-03   1.85658299e+00   5.92212719e+02]\n"
     ]
    },
    {
     "name": "stderr",
     "output_type": "stream",
     "text": [
      "\r",
      " 82%|██████████████████████     | 1029/1261 [04:46<01:10,  3.31it/s]"
     ]
    },
    {
     "name": "stdout",
     "output_type": "stream",
     "text": [
      "Fault top\n",
      "Consecutive Fault: 5\n",
      "Last good data\n",
      "[array([  1.41064191e-04,  -2.39142158e-01,   3.82983756e+02]), array([ -4.52182541e-05,  -3.54611518e-01,   1.21880609e+03])]\n",
      "wrong data\n",
      "[ -3.63499349e-04   7.42317510e-01  -2.23280900e+01] [ -3.10148625e-03   3.09698618e+00   2.57964925e+02]\n"
     ]
    },
    {
     "name": "stderr",
     "output_type": "stream",
     "text": [
      "\r",
      " 82%|██████████████████████     | 1030/1261 [04:46<01:08,  3.37it/s]"
     ]
    },
    {
     "name": "stdout",
     "output_type": "stream",
     "text": [
      "Fault top\n",
      "Consecutive Fault: 6\n",
      "Last good data\n",
      "[array([  1.41064191e-04,  -2.39142158e-01,   3.82983756e+02]), array([ -4.52182541e-05,  -3.54611518e-01,   1.21880609e+03])]\n",
      "wrong data\n",
      "[ -7.70888072e-05  -2.76157739e-01   4.92605898e+02] [ -4.38652210e-03   4.62000018e+00  -1.91832621e+02]\n"
     ]
    },
    {
     "name": "stderr",
     "output_type": "stream",
     "text": [
      "\r",
      " 82%|██████████████████████     | 1031/1261 [04:46<01:06,  3.47it/s]"
     ]
    },
    {
     "name": "stdout",
     "output_type": "stream",
     "text": [
      "Fault top\n",
      "Consecutive Fault: 7\n",
      "Last good data\n",
      "[array([  1.41064191e-04,  -2.39142158e-01,   3.82983756e+02]), array([ -4.52182541e-05,  -3.54611518e-01,   1.21880609e+03])]\n",
      "wrong data\n",
      "[ -1.92853954e-03   2.25018055e+00  -3.53973463e+02] [ -3.42927282e-03   3.72574754e+00   1.31357555e+00]\n"
     ]
    },
    {
     "name": "stderr",
     "output_type": "stream",
     "text": [
      "\r",
      " 82%|██████████████████████     | 1032/1261 [04:47<01:04,  3.55it/s]"
     ]
    },
    {
     "name": "stdout",
     "output_type": "stream",
     "text": [
      "Consecutive Fault: 8\n",
      "Last good data\n",
      "[array([  1.41064191e-04,  -2.39142158e-01,   3.82983756e+02]), array([ -4.52182541e-05,  -3.54611518e-01,   1.21880609e+03])]\n",
      "wrong data\n",
      "[  1.36003918e-03  -1.38690984e+00   6.14656028e+02] [  1.32234746e-03  -1.44599148e+00   1.34911032e+03]\n"
     ]
    },
    {
     "name": "stderr",
     "output_type": "stream",
     "text": [
      "\r",
      " 82%|██████████████████████     | 1033/1261 [04:47<01:04,  3.53it/s]"
     ]
    },
    {
     "name": "stdout",
     "output_type": "stream",
     "text": [
      "Fault top\n",
      "Consecutive Fault: 9\n",
      "Last good data\n",
      "[array([  1.41064191e-04,  -2.39142158e-01,   3.82983756e+02]), array([ -4.52182541e-05,  -3.54611518e-01,   1.21880609e+03])]\n",
      "wrong data\n",
      "[ -2.94912553e-04   7.55236170e-01  -6.45435157e+01] [ -3.54320919e-03   4.06269392e+00  -1.48271408e+02]\n"
     ]
    },
    {
     "name": "stderr",
     "output_type": "stream",
     "text": [
      "\r",
      " 82%|██████████████████████▏    | 1034/1261 [04:48<01:20,  2.82it/s]"
     ]
    },
    {
     "name": "stdout",
     "output_type": "stream",
     "text": [
      "Fault top\n",
      "Consecutive Fault: 10\n",
      "Last good data\n",
      "[array([  1.41064191e-04,  -2.39142158e-01,   3.82983756e+02]), array([ -4.52182541e-05,  -3.54611518e-01,   1.21880609e+03])]\n",
      "wrong data\n",
      "[ -1.75895282e-05   4.56943057e-01   1.19691519e+01] [ -5.15448354e-03   6.08529544e+00  -7.68803787e+02]\n"
     ]
    },
    {
     "name": "stderr",
     "output_type": "stream",
     "text": [
      "\r",
      " 82%|██████████████████████▏    | 1035/1261 [04:48<01:14,  3.05it/s]"
     ]
    },
    {
     "name": "stdout",
     "output_type": "stream",
     "text": [
      "Consecutive Fault: 11\n",
      "Last good data\n",
      "[array([  1.41064191e-04,  -2.39142158e-01,   3.82983756e+02]), array([ -4.52182541e-05,  -3.54611518e-01,   1.21880609e+03])]\n",
      "wrong data\n",
      "[  8.89093470e-04  -1.98592964e-01   1.08392014e+02] [  1.23686974e-03  -1.48628368e+00   1.35936101e+03]\n"
     ]
    },
    {
     "name": "stderr",
     "output_type": "stream",
     "text": [
      "\r",
      " 82%|██████████████████████▏    | 1036/1261 [04:48<01:09,  3.22it/s]"
     ]
    },
    {
     "name": "stdout",
     "output_type": "stream",
     "text": [
      "Consecutive Fault: 12\n",
      "Last good data\n",
      "[array([  1.41064191e-04,  -2.39142158e-01,   3.82983756e+02]), array([ -4.52182541e-05,  -3.54611518e-01,   1.21880609e+03])]\n",
      "wrong data\n",
      "[  1.16374978e-03  -3.66811790e-01   9.32118172e+01] [ -7.40613725e-04   1.15462610e+00   5.32598611e+02]\n"
     ]
    },
    {
     "name": "stderr",
     "output_type": "stream",
     "text": [
      "\r",
      " 82%|██████████████████████▏    | 1037/1261 [04:48<01:10,  3.19it/s]"
     ]
    },
    {
     "name": "stdout",
     "output_type": "stream",
     "text": [
      "Fault top\n",
      "Consecutive Fault: 13\n",
      "Last good data\n",
      "[array([  1.41064191e-04,  -2.39142158e-01,   3.82983756e+02]), array([ -4.52182541e-05,  -3.54611518e-01,   1.21880609e+03])]\n",
      "wrong data\n",
      "[  8.68744377e-04  -2.00433977e-01   8.48360761e+01] [  5.29917362e-06   5.84669603e-01   4.67947842e+02]\n"
     ]
    },
    {
     "name": "stderr",
     "output_type": "stream",
     "text": [
      "\r",
      " 82%|██████████████████████▏    | 1038/1261 [04:49<01:06,  3.37it/s]"
     ]
    },
    {
     "name": "stdout",
     "output_type": "stream",
     "text": [
      "Fault top\n",
      "Consecutive Fault: 14\n",
      "Last good data\n",
      "[array([  1.41064191e-04,  -2.39142158e-01,   3.82983756e+02]), array([ -4.52182541e-05,  -3.54611518e-01,   1.21880609e+03])]\n",
      "wrong data\n",
      "[  2.12194104e-03  -2.40475870e+00   9.49150351e+02] [ -1.48028595e-04   7.73518077e-01   4.22101436e+02]\n"
     ]
    },
    {
     "name": "stderr",
     "output_type": "stream",
     "text": [
      "\r",
      " 82%|██████████████████████▏    | 1039/1261 [04:49<01:19,  2.81it/s]"
     ]
    },
    {
     "name": "stdout",
     "output_type": "stream",
     "text": [
      "Consecutive Fault: 15\n",
      "Last good data\n",
      "[array([  1.41064191e-04,  -2.39142158e-01,   3.82983756e+02]), array([ -4.52182541e-05,  -3.54611518e-01,   1.21880609e+03])]\n",
      "wrong data\n",
      "[  6.62385035e-04  -5.00154771e-02   4.55328480e+01] [  2.03772598e-04   5.30025193e-01   4.58522909e+02]\n"
     ]
    },
    {
     "name": "stderr",
     "output_type": "stream",
     "text": [
      "\r",
      " 82%|██████████████████████▎    | 1040/1261 [04:49<01:12,  3.05it/s]"
     ]
    },
    {
     "name": "stdout",
     "output_type": "stream",
     "text": [
      "Fault top\n",
      "Consecutive Fault: 16\n",
      "Last good data\n",
      "[array([  1.41064191e-04,  -2.39142158e-01,   3.82983756e+02]), array([ -4.52182541e-05,  -3.54611518e-01,   1.21880609e+03])]\n",
      "wrong data\n",
      "[  7.52402407e-04  -1.05394393e+00   6.58813541e+02] [ -6.46906688e-04   1.13103896e+00   3.55655237e+02]\n"
     ]
    },
    {
     "name": "stderr",
     "output_type": "stream",
     "text": [
      "\r",
      " 83%|██████████████████████▎    | 1041/1261 [04:50<01:08,  3.21it/s]"
     ]
    },
    {
     "name": "stdout",
     "output_type": "stream",
     "text": [
      "Fault top\n",
      "Consecutive Fault: 17\n",
      "Last good data\n",
      "[array([  1.41064191e-04,  -2.39142158e-01,   3.82983756e+02]), array([ -4.52182541e-05,  -3.54611518e-01,   1.21880609e+03])]\n",
      "wrong data\n",
      "[  6.25304079e-04  -1.03351663e+00   6.81218319e+02] [ -3.02534298e-03   3.64964402e+00  -1.94070148e+02]\n"
     ]
    },
    {
     "name": "stderr",
     "output_type": "stream",
     "text": [
      "\r",
      " 83%|██████████████████████▎    | 1042/1261 [04:50<01:13,  2.97it/s]"
     ]
    },
    {
     "name": "stdout",
     "output_type": "stream",
     "text": [
      "Fault top\n",
      "Consecutive Fault: 18\n",
      "Last good data\n",
      "[array([  1.41064191e-04,  -2.39142158e-01,   3.82983756e+02]), array([ -4.52182541e-05,  -3.54611518e-01,   1.21880609e+03])]\n",
      "wrong data\n",
      "[  4.51685556e-04  -5.86722515e-01   5.34350606e+02] [  7.61137409e-04   9.89345142e-02   4.52404008e+02]\n"
     ]
    },
    {
     "name": "stderr",
     "output_type": "stream",
     "text": [
      "\r",
      " 83%|██████████████████████▎    | 1043/1261 [04:50<01:08,  3.18it/s]"
     ]
    },
    {
     "name": "stdout",
     "output_type": "stream",
     "text": [
      "Fault top\n",
      "Consecutive Fault: 19\n",
      "Last good data\n",
      "[array([  1.41064191e-04,  -2.39142158e-01,   3.82983756e+02]), array([ -4.52182541e-05,  -3.54611518e-01,   1.21880609e+03])]\n",
      "wrong data\n",
      "[  4.96124862e-04  -6.26592474e-01   5.37335718e+02] [ -2.44833972e-02   3.04337074e+01  -8.62338040e+03]\n"
     ]
    },
    {
     "name": "stderr",
     "output_type": "stream",
     "text": [
      "\r",
      " 83%|██████████████████████▎    | 1044/1261 [04:51<01:06,  3.26it/s]"
     ]
    },
    {
     "name": "stdout",
     "output_type": "stream",
     "text": [
      "Fault top\n",
      "Consecutive Fault: 20\n",
      "Last good data\n",
      "[array([  1.41064191e-04,  -2.39142158e-01,   3.82983756e+02]), array([ -4.52182541e-05,  -3.54611518e-01,   1.21880609e+03])]\n",
      "wrong data\n",
      "[  5.59269721e-04  -6.96680403e-01   5.35483006e+02] [ -1.31684274e-02   1.66750625e+01  -4.47817474e+03]\n"
     ]
    },
    {
     "name": "stderr",
     "output_type": "stream",
     "text": [
      "\r",
      " 83%|██████████████████████▍    | 1045/1261 [04:51<01:04,  3.35it/s]"
     ]
    },
    {
     "name": "stdout",
     "output_type": "stream",
     "text": [
      "Fault top\n",
      "Consecutive Fault: 21\n",
      "Last good data\n",
      "[array([  1.41064191e-04,  -2.39142158e-01,   3.82983756e+02]), array([ -4.52182541e-05,  -3.54611518e-01,   1.21880609e+03])]\n",
      "wrong data\n",
      "[  1.10105749e-03  -1.35213273e+00   7.29974456e+02] [  1.36328043e-03  -5.63469565e-01   5.15479563e+02]\n"
     ]
    },
    {
     "name": "stderr",
     "output_type": "stream",
     "text": [
      "\r",
      " 83%|██████████████████████▍    | 1046/1261 [04:51<01:17,  2.78it/s]"
     ]
    },
    {
     "name": "stdout",
     "output_type": "stream",
     "text": [
      "Fault top\n",
      "Consecutive Fault: 22\n",
      "Last good data\n",
      "[array([  1.41064191e-04,  -2.39142158e-01,   3.82983756e+02]), array([ -4.52182541e-05,  -3.54611518e-01,   1.21880609e+03])]\n",
      "wrong data\n",
      "[  1.08094523e-03  -1.27946631e+00   6.94841588e+02] [  1.47345074e-03  -6.82282845e-01   5.52356223e+02]\n"
     ]
    },
    {
     "name": "stderr",
     "output_type": "stream",
     "text": [
      "\r",
      " 83%|██████████████████████▍    | 1047/1261 [04:52<01:10,  3.02it/s]"
     ]
    },
    {
     "name": "stdout",
     "output_type": "stream",
     "text": [
      "Fault top\n",
      "Consecutive Fault: 23\n",
      "Last good data\n",
      "[array([  1.41064191e-04,  -2.39142158e-01,   3.82983756e+02]), array([ -4.52182541e-05,  -3.54611518e-01,   1.21880609e+03])]\n",
      "wrong data\n",
      "[  8.13120348e-04  -9.68612991e-01   5.90209493e+02] [  1.26566109e-03  -4.56407265e-01   4.90699254e+02]\n"
     ]
    },
    {
     "name": "stderr",
     "output_type": "stream",
     "text": [
      " 83%|██████████████████████▍    | 1049/1261 [04:52<01:06,  3.21it/s]"
     ]
    },
    {
     "name": "stdout",
     "output_type": "stream",
     "text": [
      "Fault top\n",
      "Consecutive Fault: 1\n",
      "Last good data\n",
      "[array([  1.71927892e-04,  -2.76569309e-01,   3.94303078e+02]), array([ -3.78856091e-05,  -3.62011464e-01,   1.22147547e+03])]\n",
      "wrong data\n",
      "[  5.25759679e-04  -6.86642654e-01   5.12464197e+02] [ -2.13727789e-03   2.95593207e+00  -1.25097718e+02]\n"
     ]
    },
    {
     "name": "stderr",
     "output_type": "stream",
     "text": [
      "100%|██████████████████████████▉| 1260/1261 [05:51<00:00,  3.84it/s]\n"
     ]
    },
    {
     "name": "stdout",
     "output_type": "stream",
     "text": [
      "[MoviePy] Done.\n",
      "[MoviePy] >>>> Video ready: Test.mp4 \n",
      "\n",
      "Wall time: 5min 53s\n",
      "Total Faults: 48\n"
     ]
    }
   ],
   "source": [
    "#for i in history:\n",
    "#    print (i)\n",
    "\n",
    "#Video\n",
    "from moviepy.editor import VideoFileClip\n",
    "#from IPython.display import HTML\n",
    "\n",
    "video_output=\"Test.mp4\"\n",
    "#clip1=VideoFileClip(\"project_video.mp4\").subclip(32,43)\n",
    "clip1=VideoFileClip(\"project_video.mp4\")\n",
    "video_clip=clip1.fl_image(frame_only)\n",
    "%time video_clip.write_videofile(video_output, audio=False)\n",
    "print(\"Total Faults:\", total_fault)"
   ]
  },
  {
   "cell_type": "code",
   "execution_count": 8,
   "metadata": {
    "collapsed": false,
    "deletable": true,
    "editable": true
   },
   "outputs": [
    {
     "ename": "NameError",
     "evalue": "name 'history' is not defined",
     "output_type": "error",
     "traceback": [
      "\u001b[0;31m---------------------------------------------------------------------\u001b[0m",
      "\u001b[0;31mNameError\u001b[0m                           Traceback (most recent call last)",
      "\u001b[0;32m<ipython-input-8-e9b4a9863b1b>\u001b[0m in \u001b[0;36m<module>\u001b[0;34m()\u001b[0m\n\u001b[0;32m----> 1\u001b[0;31m \u001b[1;32mfor\u001b[0m \u001b[0mj\u001b[0m \u001b[1;32min\u001b[0m \u001b[0mhistory\u001b[0m\u001b[1;33m:\u001b[0m\u001b[1;33m\u001b[0m\u001b[0m\n\u001b[0m\u001b[1;32m      2\u001b[0m     \u001b[0mprint\u001b[0m\u001b[1;33m(\u001b[0m\u001b[0mj\u001b[0m\u001b[1;33m[\u001b[0m\u001b[1;36m0\u001b[0m\u001b[1;33m]\u001b[0m\u001b[1;33m)\u001b[0m\u001b[1;33m\u001b[0m\u001b[0m\n\u001b[1;32m      3\u001b[0m \u001b[1;33m\u001b[0m\u001b[0m\n\u001b[1;32m      4\u001b[0m \u001b[0mprint\u001b[0m\u001b[1;33m(\u001b[0m\u001b[0mlen\u001b[0m\u001b[1;33m(\u001b[0m\u001b[0mhistory\u001b[0m\u001b[1;33m)\u001b[0m\u001b[1;33m)\u001b[0m\u001b[1;33m\u001b[0m\u001b[0m\n\u001b[1;32m      5\u001b[0m \u001b[0macumulator_l\u001b[0m\u001b[1;33m=\u001b[0m\u001b[1;33m[\u001b[0m\u001b[1;33m]\u001b[0m\u001b[1;33m\u001b[0m\u001b[0m\n",
      "\u001b[0;31mNameError\u001b[0m: name 'history' is not defined"
     ]
    }
   ],
   "source": [
    "for j in history:\n",
    "    print(j[0])\n",
    "\n",
    "print(len(history))\n",
    "acumulator_l=[]\n",
    "for i in range(len(history)):\n",
    "    acumulator_l.append(history[i][0])\n",
    "    if len(acumulator_l)>3:\n",
    "        acumulator_l=acumulator_l[1:]\n",
    "    print(\"Acumulator has {} elements\".format(len(acumulator_l)))\n",
    "    for j in acumulator_l:\n",
    "        print(\"  \", j)\n",
    "    print(\"  Mean:\")\n",
    "    new_left=np.mean(np.asarray(acumulator_l), axis=0)\n",
    "    print(new_left)\n",
    "        \n",
    "\n",
    "print (acumulator_l)"
   ]
  },
  {
   "cell_type": "code",
   "execution_count": null,
   "metadata": {
    "collapsed": false,
    "deletable": true,
    "editable": true
   },
   "outputs": [],
   "source": [
    "dummy_l=history[1][0]\n",
    "dummy_r=history[2][0]\n",
    "\n",
    "dummy_l1=dummy_l*1.4\n",
    "print(dummy_l)\n",
    "print(dummy_l1)\n",
    "\n",
    "diff=np.subtract(dummy_l, dummy_l1)\n",
    "closedness=np.allclose(dummy_l[2], dummy_l1[2], atol=150)\n",
    "print(diff)\n",
    "print(closedness)"
   ]
  },
  {
   "cell_type": "code",
   "execution_count": null,
   "metadata": {
    "collapsed": true,
    "deletable": true,
    "editable": true
   },
   "outputs": [],
   "source": []
  }
 ],
 "metadata": {
  "kernelspec": {
   "display_name": "Python 3",
   "language": "python",
   "name": "python3"
  },
  "language_info": {
   "codemirror_mode": {
    "name": "ipython",
    "version": 3
   },
   "file_extension": ".py",
   "mimetype": "text/x-python",
   "name": "python",
   "nbconvert_exporter": "python",
   "pygments_lexer": "ipython3",
   "version": "3.5.2"
  },
  "widgets": {
   "state": {},
   "version": "1.1.2"
  }
 },
 "nbformat": 4,
 "nbformat_minor": 2
}
