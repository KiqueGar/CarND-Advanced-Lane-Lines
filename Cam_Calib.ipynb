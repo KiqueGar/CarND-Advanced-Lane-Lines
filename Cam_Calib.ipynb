{
 "cells": [
  {
   "cell_type": "code",
   "execution_count": 8,
   "metadata": {
    "collapsed": false,
    "deletable": true,
    "editable": true
   },
   "outputs": [
    {
     "name": "stdout",
     "output_type": "stream",
     "text": [
      "No corners found on 1.jpg!\n",
      "10.jpg Corners Found!\n",
      "Saving Image...\n",
      "11.jpg Corners Found!\n",
      "Saving Image...\n",
      "12.jpg Corners Found!\n",
      "Saving Image...\n",
      "13.jpg Corners Found!\n",
      "Saving Image...\n",
      "14.jpg Corners Found!\n",
      "Saving Image...\n",
      "15.jpg Corners Found!\n",
      "Saving Image...\n",
      "16.jpg Corners Found!\n",
      "Saving Image...\n",
      "17.jpg Corners Found!\n",
      "Saving Image...\n",
      "18.jpg Corners Found!\n",
      "Saving Image...\n",
      "19.jpg Corners Found!\n",
      "Saving Image...\n",
      "2.jpg Corners Found!\n",
      "Saving Image...\n",
      "20.jpg Corners Found!\n",
      "Saving Image...\n",
      "3.jpg Corners Found!\n",
      "Saving Image...\n",
      "No corners found on 4.jpg!\n",
      "No corners found on 5.jpg!\n",
      "6.jpg Corners Found!\n",
      "Saving Image...\n",
      "7.jpg Corners Found!\n",
      "Saving Image...\n",
      "8.jpg Corners Found!\n",
      "Saving Image...\n",
      "9.jpg Corners Found!\n",
      "Saving Image...\n",
      "Pickle Saved\n"
     ]
    }
   ],
   "source": [
    "##Camera Calibration\n",
    "import numpy as np\n",
    "import cv2\n",
    "import glob\n",
    "import pickle\n",
    "import matplotlib.pyplot as plt\n",
    "%matplotlib inline\n",
    "#import os\n",
    "\n",
    "save_dir= r'output_images/chess/'\n",
    "\n",
    "#Prepare object points (0,0,0),(1,0,0),(2,0,0) ....,(8,4,0)\n",
    "objp = np.zeros((9*6,3), np.float32)\n",
    "#print(objp)\n",
    "objp[:,:2]= np.mgrid[0:9,0:6].T.reshape(-1,2)\n",
    "#print(objp)\n",
    "\n",
    "objpoints=[] #3d points in real world\n",
    "imgpoints=[] #2d points in image\n",
    "\n",
    "#Images to calibrate from\n",
    "img_files = glob.glob('camera_cal/*.jpg')\n",
    "#print(img_files)\n",
    "\"\"\"\n",
    "[X] Find chessboard corners\n",
    "[X] Add image points, object points\n",
    "[X] Display corners\n",
    "[X] Camera calibration\n",
    "\"\"\"\n",
    "\n",
    "for file in img_files:\n",
    "    #Get file sufix\n",
    "    sufix=file[22:]\n",
    "    #print(\"Opening file: \"+sufix)\n",
    "    img=cv2.imread(file)\n",
    "    gray=cv2.cvtColor(img, cv2.COLOR_BGR2GRAY)\n",
    "    \n",
    "    #Find chessboard corners\n",
    "    ret, corners = cv2.findChessboardCorners(gray, (9,6), None)\n",
    "    #If corners exist\n",
    "    if ret == True:\n",
    "        print(sufix+\" Corners Found!\")\n",
    "        objpoints.append(objp)\n",
    "        imgpoints.append(corners)\n",
    "        \n",
    "        cv2.drawChessboardCorners(img, (9,5), corners, ret)\n",
    "        file_name= save_dir + 'chess_corners' + sufix\n",
    "        #print(file_name)\n",
    "        print(\"Saving Image...\")\n",
    "        cv2.imwrite(file_name, img)\n",
    "    else:\n",
    "        print(\"No corners found on {}!\".format(sufix))\n",
    "    \n",
    "img_size=(img.shape[1], img.shape[0])\n",
    "ret, mtx, dist, rvecs, tvecs = cv2.calibrateCamera(objpoints, imgpoints, img_size, None, None)\n",
    "\n",
    "camCal_pickle={\"mtx\": mtx,\n",
    "              \"dist\": dist,\n",
    "              \"rvecs\": rvecs,\n",
    "              \"tvecs\": tvecs}\n",
    "pickle.dump(camCal_pickle, open ('CamCal/camCal_pickle.p', \"wb\") )\n",
    "print(\"Pickle Saved\")"
   ]
  },
  {
   "cell_type": "code",
   "execution_count": 18,
   "metadata": {
    "collapsed": false,
    "deletable": true,
    "editable": true
   },
   "outputs": [],
   "source": [
    "## Distortion correction\n",
    "\n",
    "Cam_Calib=pickle.load( open(\"CamCal/camCal_pickle.p\", \"rb\"))\n",
    "\n",
    "cam_dist=Cam_Calib[\"dist\"]\n",
    "cam_mtx=Cam_Calib[\"mtx\"]\n",
    "img_files = glob.glob('test_images/*.jpg')\n",
    "save_dir= r'output_images/undist/'\n",
    "\n",
    "for file in img_files:\n",
    "    img= cv2.imread(file)\n",
    "    sufix=file[12:]\n",
    "    dst=cv2.undistort(img, cam_mtx, cam_dist, None, cam_mtx)\n",
    "    cv2.imwrite(save_dir+sufix[:-4]+\"_undist.jpg\", dst)\n",
    "    \n",
    "    \n"
   ]
  },
  {
   "cell_type": "code",
   "execution_count": null,
   "metadata": {
    "collapsed": true
   },
   "outputs": [],
   "source": []
  }
 ],
 "metadata": {
  "kernelspec": {
   "display_name": "Python 3",
   "language": "python",
   "name": "python3"
  },
  "language_info": {
   "codemirror_mode": {
    "name": "ipython",
    "version": 3
   },
   "file_extension": ".py",
   "mimetype": "text/x-python",
   "name": "python",
   "nbconvert_exporter": "python",
   "pygments_lexer": "ipython3",
   "version": "3.5.2"
  },
  "widgets": {
   "state": {},
   "version": "1.1.2"
  }
 },
 "nbformat": 4,
 "nbformat_minor": 2
}
